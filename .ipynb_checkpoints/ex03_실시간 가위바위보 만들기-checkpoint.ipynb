{
 "cells": [
  {
   "cell_type": "code",
   "execution_count": 1,
   "id": "47ce87e4-0507-4435-a72f-307b5c538b8e",
   "metadata": {},
   "outputs": [],
   "source": [
    "import cv2\n",
    "import mediapipe as mp\n",
    "import numpy as np\n",
    "from sklearn.neighbors import KNeighborsClassifier # KNN 분류모델"
   ]
  },
  {
   "cell_type": "code",
   "execution_count": 2,
   "id": "7f839200-7ebb-43d1-adfa-230cb99a8ef1",
   "metadata": {},
   "outputs": [],
   "source": [
    "# 10개의 제스터를 매핑해둔 데이터\n",
    "gesture = {\n",
    "    0:'fist', 1:'one', 2:'two', 3:'three', 4:'four', 5:'five',\n",
    "    6:'six', 7:'rock', 8:'spiderman', 9:'yeah', 10:'ok'\n",
    "}\n",
    "\n",
    "# 가위바위보를 위한 제스처 \n",
    "rsp_gesture = {\n",
    "    0: 'rock',\n",
    "    5: 'paper',\n",
    "    9: 'scissors'\n",
    "}"
   ]
  },
  {
   "cell_type": "code",
   "execution_count": 3,
   "id": "76123b3a-4f8a-4940-9dff-92f6bcc13c5c",
   "metadata": {},
   "outputs": [
    {
     "data": {
      "text/html": [
       "<style>#sk-container-id-1 {color: black;}#sk-container-id-1 pre{padding: 0;}#sk-container-id-1 div.sk-toggleable {background-color: white;}#sk-container-id-1 label.sk-toggleable__label {cursor: pointer;display: block;width: 100%;margin-bottom: 0;padding: 0.3em;box-sizing: border-box;text-align: center;}#sk-container-id-1 label.sk-toggleable__label-arrow:before {content: \"▸\";float: left;margin-right: 0.25em;color: #696969;}#sk-container-id-1 label.sk-toggleable__label-arrow:hover:before {color: black;}#sk-container-id-1 div.sk-estimator:hover label.sk-toggleable__label-arrow:before {color: black;}#sk-container-id-1 div.sk-toggleable__content {max-height: 0;max-width: 0;overflow: hidden;text-align: left;background-color: #f0f8ff;}#sk-container-id-1 div.sk-toggleable__content pre {margin: 0.2em;color: black;border-radius: 0.25em;background-color: #f0f8ff;}#sk-container-id-1 input.sk-toggleable__control:checked~div.sk-toggleable__content {max-height: 200px;max-width: 100%;overflow: auto;}#sk-container-id-1 input.sk-toggleable__control:checked~label.sk-toggleable__label-arrow:before {content: \"▾\";}#sk-container-id-1 div.sk-estimator input.sk-toggleable__control:checked~label.sk-toggleable__label {background-color: #d4ebff;}#sk-container-id-1 div.sk-label input.sk-toggleable__control:checked~label.sk-toggleable__label {background-color: #d4ebff;}#sk-container-id-1 input.sk-hidden--visually {border: 0;clip: rect(1px 1px 1px 1px);clip: rect(1px, 1px, 1px, 1px);height: 1px;margin: -1px;overflow: hidden;padding: 0;position: absolute;width: 1px;}#sk-container-id-1 div.sk-estimator {font-family: monospace;background-color: #f0f8ff;border: 1px dotted black;border-radius: 0.25em;box-sizing: border-box;margin-bottom: 0.5em;}#sk-container-id-1 div.sk-estimator:hover {background-color: #d4ebff;}#sk-container-id-1 div.sk-parallel-item::after {content: \"\";width: 100%;border-bottom: 1px solid gray;flex-grow: 1;}#sk-container-id-1 div.sk-label:hover label.sk-toggleable__label {background-color: #d4ebff;}#sk-container-id-1 div.sk-serial::before {content: \"\";position: absolute;border-left: 1px solid gray;box-sizing: border-box;top: 0;bottom: 0;left: 50%;z-index: 0;}#sk-container-id-1 div.sk-serial {display: flex;flex-direction: column;align-items: center;background-color: white;padding-right: 0.2em;padding-left: 0.2em;position: relative;}#sk-container-id-1 div.sk-item {position: relative;z-index: 1;}#sk-container-id-1 div.sk-parallel {display: flex;align-items: stretch;justify-content: center;background-color: white;position: relative;}#sk-container-id-1 div.sk-item::before, #sk-container-id-1 div.sk-parallel-item::before {content: \"\";position: absolute;border-left: 1px solid gray;box-sizing: border-box;top: 0;bottom: 0;left: 50%;z-index: -1;}#sk-container-id-1 div.sk-parallel-item {display: flex;flex-direction: column;z-index: 1;position: relative;background-color: white;}#sk-container-id-1 div.sk-parallel-item:first-child::after {align-self: flex-end;width: 50%;}#sk-container-id-1 div.sk-parallel-item:last-child::after {align-self: flex-start;width: 50%;}#sk-container-id-1 div.sk-parallel-item:only-child::after {width: 0;}#sk-container-id-1 div.sk-dashed-wrapped {border: 1px dashed gray;margin: 0 0.4em 0.5em 0.4em;box-sizing: border-box;padding-bottom: 0.4em;background-color: white;}#sk-container-id-1 div.sk-label label {font-family: monospace;font-weight: bold;display: inline-block;line-height: 1.2em;}#sk-container-id-1 div.sk-label-container {text-align: center;}#sk-container-id-1 div.sk-container {/* jupyter's `normalize.less` sets `[hidden] { display: none; }` but bootstrap.min.css set `[hidden] { display: none !important; }` so we also need the `!important` here to be able to override the default hidden behavior on the sphinx rendered scikit-learn.org. See: https://github.com/scikit-learn/scikit-learn/issues/21755 */display: inline-block !important;position: relative;}#sk-container-id-1 div.sk-text-repr-fallback {display: none;}</style><div id=\"sk-container-id-1\" class=\"sk-top-container\"><div class=\"sk-text-repr-fallback\"><pre>KNeighborsClassifier(n_neighbors=3)</pre><b>In a Jupyter environment, please rerun this cell to show the HTML representation or trust the notebook. <br />On GitHub, the HTML representation is unable to render, please try loading this page with nbviewer.org.</b></div><div class=\"sk-container\" hidden><div class=\"sk-item\"><div class=\"sk-estimator sk-toggleable\"><input class=\"sk-toggleable__control sk-hidden--visually\" id=\"sk-estimator-id-1\" type=\"checkbox\" checked><label for=\"sk-estimator-id-1\" class=\"sk-toggleable__label sk-toggleable__label-arrow\">KNeighborsClassifier</label><div class=\"sk-toggleable__content\"><pre>KNeighborsClassifier(n_neighbors=3)</pre></div></div></div></div></div>"
      ],
      "text/plain": [
       "KNeighborsClassifier(n_neighbors=3)"
      ]
     },
     "execution_count": 3,
     "metadata": {},
     "output_type": "execute_result"
    }
   ],
   "source": [
    "# 손을 찾아주는 모듈\n",
    "mp_hands = mp.solutions.hands\n",
    "# 특징점을 연결 및 관리해주는 모듈\n",
    "mp_drawing = mp.solutions.drawing_utils\n",
    "\n",
    "hands = mp_hands.Hands(max_num_hands =2,     # 찾는 손의 개수\n",
    "               min_detection_confidence=0.5, # 정확하게 손을 찾아주는 역할     (0.5 => 신뢰도)\n",
    "               min_tracking_confidence=0.5)  # 손의 위치(범위)를 찾아주는 역할 (0.5 => 신뢰도)\n",
    "\n",
    "# knn 모델 활용하여 제스처 인식모델 학습\n",
    "file = np.genfromtxt('./gesture_train.csv', delimiter= ',') #데이터\n",
    "\n",
    "# 학습용 문제 데이터 나눠주기\n",
    "X_train = file[:, :-1].astype(np.float32)\n",
    "y_train = file[:, -1].astype(np.float32)\n",
    "\n",
    "# 모델 생성\n",
    "knn = KNeighborsClassifier(n_neighbors=3)\n",
    "knn.fit(X_train,y_train)"
   ]
  },
  {
   "cell_type": "code",
   "execution_count": 19,
   "id": "4920c61b-d963-4aa0-b449-76706a1892c8",
   "metadata": {},
   "outputs": [],
   "source": [
    "# 캠 켜기\n",
    "cap = cv2.VideoCapture(0)\n",
    "\n",
    "while cap.isOpened():\n",
    "    res, img = cap.read()\n",
    "    if not res:\n",
    "        continue\n",
    "\n",
    "    # 좌우반전\n",
    "    img = cv2.flip(img,1)        \n",
    "    # 색상채널 변경(손의 관절위치를 찾는 성능을 올리는데 도움이 된다)\n",
    "    img = cv2.cvtColor(img, cv2.COLOR_BGR2RGB)\n",
    "\n",
    "    # 손 정보 추출해서 담아주기\n",
    "    result = hands.process(img) \n",
    "    # 색상채널 원래대로 돌려주기\n",
    "    img = cv2.cvtColor(img, cv2.COLOR_RGB2BGR)\n",
    "\n",
    "    if result.multi_hand_landmarks is not None:\n",
    "        # 가위바위보 정보를 담아줄 리스트\n",
    "        rsp_result = []\n",
    "        for res in result.multi_hand_landmarks:\n",
    "            # 각 관절의 위치를 저장할 비어있는 배열 생성하기 (21, 3)\n",
    "            joint = np.zeros((21,3))\n",
    "            # 관절의 위치정보를 추출하기\n",
    "            for j, lm in enumerate(res.landmark):\n",
    "                joint[j] = [lm.x, lm.y, lm.z] # 관절의 위치를 numpy 배열에 저장\n",
    "            \n",
    "            # joint: 점의 위치값 > 통해서 관절값 구하\n",
    "            # joint들로 관절값 구하기\n",
    "            v1 = joint[[0,1,2,3,0,5,6,7,0,9,10,11,0,13,14,15,0,17,18,19],:] # Parent joint\n",
    "            v2 = joint[[1,2,3,4,5,6,7,8,9,10,11,12,13,14,15,16,17,18,19,20],:] # Child joint\n",
    "            v = v2 - v1 # [20,3]\n",
    "            # Normalize v 유클리디안 길이\n",
    "            v = v / np.linalg.norm(v, axis=1)[:, np.newaxis]\n",
    "\n",
    "            # 관절값으로 관절 각도 구하기\n",
    "            angle = np.arccos(np.einsum('nt,nt->n',\n",
    "                v[[0,1,2,4,5,6,8,9,10,12,13,14,16,17,18],:], \n",
    "                v[[1,2,3,5,6,7,9,10,11,13,14,15,17,18,19],:]))\n",
    "\n",
    "            # radian > degree 각도 값으로 변경 해주는 작업이 필요\n",
    "            angle = np.degrees(angle)\n",
    "\n",
    "            # 모델에게 제스처 인식 시키기\n",
    "            data = np.array([angle], dtype = np.float32)\n",
    "            results = knn.predict(data)\n",
    "            idx = int(results)\n",
    "            \n",
    "            # 제스쳐 인식되면 표시하기\n",
    "            if idx in rsp_gesture.keys(): \n",
    "                org = (int(res.landmark[0].x * img.shape[1]), int(res.landmark[0].y * img.shape[0]))\n",
    "                cv2.putText(img, text=rsp_gesture[idx].upper(), org=(org[0], org[1] + 20), fontFace=cv2.FONT_HERSHEY_SIMPLEX, fontScale=1, color=(255, 255, 255), thickness=2)\n",
    "\n",
    "                rsp_result.append({ \n",
    "                    'rsp': rsp_gesture[idx],\n",
    "                    'org': org\n",
    "                })\n",
    "\n",
    "            # 이미지에 각 관절끼리의 연결선 그어주기\n",
    "            mp_drawing.draw_landmarks(img, res, mp_hands.HAND_CONNECTIONS)\n",
    "\n",
    "            \n",
    "\n",
    "            # 누가이겼는지 확인하는 코드\n",
    "            if len(rsp_result) == 2:\n",
    "                winner = None\n",
    "                text = ''\n",
    "                \n",
    "                if rsp_result[0]['rsp'] == 'rock':\n",
    "                    if rsp_result[1]['rsp'] == 'rock': \n",
    "                        text ='Tie'\n",
    "                    elif rsp_result[1]['rsp'] == 'paper': \n",
    "                        text = 'Paper win!' ;\n",
    "                        winner = 1\n",
    "                    elif rsp_result[1]['rsp'] == 'scissors' : \n",
    "                        text = 'Rock win!';\n",
    "                        winner = 0\n",
    "                elif rsp_result[0]['rsp']  == 'paper':\n",
    "                    if rsp_result[1]['rsp'] == 'rock' : \n",
    "                        text = 'Paper win!';\n",
    "                        winner = 0\n",
    "                    elif rsp_result[1]['rsp'] == 'paper' :\n",
    "                        text = 'Tie'\n",
    "                    elif rsp_result[1]['rsp'] == 'scissors' :\n",
    "                        text = 'scissors win!';\n",
    "                        winner = 1\n",
    "                elif rsp_result[0]['rsp'] == 'scissors':\n",
    "                    if rsp_result[1]['rsp'] == 'scissors':\n",
    "                        text = 'Tie'\n",
    "                    elif rsp_result[1]['rsp'] == 'rock' :\n",
    "                        text = 'Rock win!';\n",
    "                        winner = 1\n",
    "                    elif rsp_result[1]['rsp'] == 'paper' :\n",
    "                        text = 'Scissors win!';\n",
    "                        winner = 0\n",
    "\n",
    "                if winner is not None:\n",
    "                    cv2.putText(img, text='Winner', org=(rsp_result[winner]['org'][0], rsp_result[winner]['org'][1] + 70), fontFace=cv2.FONT_HERSHEY_SIMPLEX, fontScale=2, color=(0, 255, 0), thickness=3)\n",
    "                cv2.putText(img, text=text, org=(int(img.shape[1] / 3), 100), fontFace=cv2.FONT_HERSHEY_SIMPLEX, fontScale=2, color=(0, 0, 255), thickness=3)\n",
    "\n",
    "    cv2.imshow('hand', img)\n",
    "    if cv2.waitKey(1) == 49:\n",
    "        cap.release()\n",
    "        cv2.destroyAllWindows()\n",
    "        break"
   ]
  },
  {
   "cell_type": "code",
   "execution_count": null,
   "id": "231953a6-4820-48a4-b172-20614c14c9f9",
   "metadata": {},
   "outputs": [],
   "source": []
  },
  {
   "cell_type": "code",
   "execution_count": null,
   "id": "86fbf48d-e8b6-49e2-bbae-f98c81acf2de",
   "metadata": {},
   "outputs": [],
   "source": []
  },
  {
   "cell_type": "code",
   "execution_count": null,
   "id": "3f7aa3f5-a127-45f8-84ac-ebc8da7c8b10",
   "metadata": {},
   "outputs": [],
   "source": []
  },
  {
   "cell_type": "code",
   "execution_count": null,
   "id": "56633022-cc4a-4160-bb1b-606731a85456",
   "metadata": {},
   "outputs": [],
   "source": []
  },
  {
   "cell_type": "code",
   "execution_count": null,
   "id": "cee7468b-1e37-4fb2-8aa7-4c656d0039fd",
   "metadata": {},
   "outputs": [],
   "source": []
  },
  {
   "cell_type": "code",
   "execution_count": null,
   "id": "c4391877-81c9-40f4-8269-fb46088706b5",
   "metadata": {},
   "outputs": [],
   "source": []
  },
  {
   "cell_type": "code",
   "execution_count": null,
   "id": "8611bb3f-3c0e-4f42-897c-4eae4bb0f727",
   "metadata": {},
   "outputs": [],
   "source": []
  },
  {
   "cell_type": "code",
   "execution_count": null,
   "id": "b926a04c-0ac1-4eb7-bdc1-fd9ac48d4ea4",
   "metadata": {},
   "outputs": [],
   "source": []
  },
  {
   "cell_type": "code",
   "execution_count": null,
   "id": "6da88ab0-d844-43dc-b624-003c3fe6e1f2",
   "metadata": {},
   "outputs": [],
   "source": []
  },
  {
   "cell_type": "code",
   "execution_count": null,
   "id": "953f992d-12d7-4098-b817-ec49b28cf0b2",
   "metadata": {},
   "outputs": [],
   "source": []
  },
  {
   "cell_type": "code",
   "execution_count": null,
   "id": "df0b389c-dc08-4f9d-84a3-3ba0fa1aff1d",
   "metadata": {},
   "outputs": [],
   "source": []
  },
  {
   "cell_type": "code",
   "execution_count": null,
   "id": "d7d94e81-b055-49f3-bca5-361e70d78e5c",
   "metadata": {},
   "outputs": [],
   "source": []
  },
  {
   "cell_type": "code",
   "execution_count": null,
   "id": "57e225b4-defb-4808-9028-19cacd48b2e7",
   "metadata": {},
   "outputs": [],
   "source": []
  },
  {
   "cell_type": "code",
   "execution_count": null,
   "id": "60c878e5-e4fb-45a9-8af1-d36a620b52ec",
   "metadata": {},
   "outputs": [],
   "source": []
  },
  {
   "cell_type": "code",
   "execution_count": null,
   "id": "2bf37387-f603-479d-aef9-4fb3780e1fe2",
   "metadata": {},
   "outputs": [],
   "source": []
  },
  {
   "cell_type": "code",
   "execution_count": null,
   "id": "2dea9263-4782-467d-8c30-6475afef5df0",
   "metadata": {},
   "outputs": [],
   "source": []
  },
  {
   "cell_type": "code",
   "execution_count": null,
   "id": "df909ac3-01dd-4a1b-b01b-a920cf66643c",
   "metadata": {},
   "outputs": [],
   "source": []
  },
  {
   "cell_type": "code",
   "execution_count": null,
   "id": "341bfd2c-a1a5-4db5-8d7d-024d9559b391",
   "metadata": {},
   "outputs": [],
   "source": []
  },
  {
   "cell_type": "code",
   "execution_count": null,
   "id": "6f779684-bcad-4f7b-9fe6-a5aa85de3f4e",
   "metadata": {},
   "outputs": [],
   "source": []
  }
 ],
 "metadata": {
  "kernelspec": {
   "display_name": "Python 3 (ipykernel)",
   "language": "python",
   "name": "python3"
  },
  "language_info": {
   "codemirror_mode": {
    "name": "ipython",
    "version": 3
   },
   "file_extension": ".py",
   "mimetype": "text/x-python",
   "name": "python",
   "nbconvert_exporter": "python",
   "pygments_lexer": "ipython3",
   "version": "3.8.18"
  }
 },
 "nbformat": 4,
 "nbformat_minor": 5
}
