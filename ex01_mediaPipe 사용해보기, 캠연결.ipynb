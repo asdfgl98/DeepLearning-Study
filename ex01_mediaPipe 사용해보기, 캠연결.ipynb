{
 "cells": [
  {
   "cell_type": "markdown",
   "id": "1dfbc33d-f869-4fd8-9f55-46b3289bc7c0",
   "metadata": {},
   "source": [
    "### 캠연결해보기"
   ]
  },
  {
   "cell_type": "code",
   "execution_count": 2,
   "id": "fc03234b-b64d-45f0-ac13-f15de4d58db4",
   "metadata": {},
   "outputs": [],
   "source": [
    "# 필요 라이브러리 불러오기\n",
    "import cv2\n",
    "import mediapipe as mp"
   ]
  },
  {
   "cell_type": "code",
   "execution_count": 3,
   "id": "e03df23d-3ffd-4e11-a7cf-144b00ca15d4",
   "metadata": {},
   "outputs": [],
   "source": [
    "# 카메라를 연결해서 동영상 틀기\n",
    "cap = cv2.VideoCapture(0)\n",
    "# 여러개의 카메라가 연결되어있을때 0번째 카메라를 의미\n",
    "\n",
    "# 동영상은 사진이 빠른속도로 출력되는 것\n",
    "# 일반적인 동영상은 1초당 30장 출력(30프레임)\n",
    "\n",
    "while cap.isOpened():\n",
    "    ret, img = cap.read()\n",
    "    # ret : cap에서 사진 데이터를 가져오면 True, 가져오지 못하면 False\n",
    "    # img : 사진 데이터가 담김\n",
    "\n",
    "    if not ret: # 사진을 정상적으로 읽지 못하면 다음 while문의 루프 반복을 진행\n",
    "        continue \n",
    "    cv2.imshow('Video', img) # 읽어온 img를 Video 창에 띄우기\n",
    "    k = cv2.waitKey(30)\n",
    "    if k == 49: # 49 : 아스키코드 (키보드 1을 의미) \n",
    "        cap.release           # 키보드 1을 눌렀을 때 카메라 연결 해제\n",
    "        cv2.destroyAllWindows() # 연결 해제하고, Video 창 닫기\n",
    "        break"
   ]
  },
  {
   "cell_type": "code",
   "execution_count": 7,
   "id": "e78e5d5d-58e9-4f14-a239-150191bbe64c",
   "metadata": {},
   "outputs": [],
   "source": [
    "# 동영상과 mediapipe 연결하기\n",
    "\n",
    "# 손을 찾아주는 모듈\n",
    "mp_hands = mp.solutions.hands\n",
    "# 특징점을 연결 및 관리해주는 모듈\n",
    "mp_drawing = mp.solutions.drawing_utils\n",
    "\n",
    "hands = mp_hands.Hands(max_num_hands =2,\n",
    "               min_detection_confidence=0.5, # 정확하게 손을 찾아주는 역할     (0.5 => 신뢰도)\n",
    "               min_tracking_confidence=0.5)  # 손의 위치(범위)를 찾아주는 역할 (0.5 => 신뢰도)\n",
    "\n",
    "cap = cv2.VideoCapture(0) # 카메라 연결 초기화\n",
    "\n",
    "while cap.isOpened():     # 카메라가 연결되어있으면 무한루프\n",
    "    ret, img = cap.read() # 카메라 프레임 읽어오기\n",
    "    if not ret :\n",
    "        continue\n",
    "    img = cv2.flip(img,1)  # 좌우반전\n",
    "    result = hands.process(img)     # hands 모델을 사용해서 손의 특징점 찾기\n",
    "\n",
    "    # 손을 찾았을 때, 손의 위치와 특징점을 찍어주는 코드\n",
    "    if result.multi_hand_landmarks is not None: # 손을 찾았을 때,\n",
    "        for res in result.multi_hand_landmarks: # 각 손에 대한 반복을 진행\n",
    "            mp_drawing.draw_landmarks(img,res,mp_hands.HAND_CONNECTIONS) # 검출된 손의 특징점과 손목부터 끝까지 연결선을 화면에 그려주는 코드\n",
    "\n",
    "    cv2.imshow('img',img) # 화면에 이미지 표새ㅣ\n",
    "    if cv2.waitKey(1) == 49: # 키보드 1 를 누르면 실행\n",
    "        cap.release()\n",
    "        cv2.destroyAllWindows()\n",
    "        break\n",
    "            "
   ]
  },
  {
   "cell_type": "code",
   "execution_count": null,
   "id": "23a7e668-e265-4146-addc-d08ba9651d20",
   "metadata": {},
   "outputs": [],
   "source": []
  },
  {
   "cell_type": "code",
   "execution_count": null,
   "id": "4cd10971-f315-4366-9640-3b0c1164098a",
   "metadata": {},
   "outputs": [],
   "source": []
  },
  {
   "cell_type": "code",
   "execution_count": null,
   "id": "6153843b-df99-4755-908c-4e1f292ce5d4",
   "metadata": {},
   "outputs": [],
   "source": []
  },
  {
   "cell_type": "code",
   "execution_count": null,
   "id": "11ecd4b1-738f-4892-9345-b05e3c277fbe",
   "metadata": {},
   "outputs": [],
   "source": []
  },
  {
   "cell_type": "code",
   "execution_count": null,
   "id": "40ddd8d1-db4d-40e7-ace6-e87a1d381c0c",
   "metadata": {},
   "outputs": [],
   "source": []
  },
  {
   "cell_type": "code",
   "execution_count": null,
   "id": "952e4a04-4885-467c-b68f-3722655ed0d4",
   "metadata": {},
   "outputs": [],
   "source": []
  },
  {
   "cell_type": "code",
   "execution_count": null,
   "id": "69c299c0-7cbf-4705-bf8e-80c5cb461074",
   "metadata": {},
   "outputs": [],
   "source": []
  },
  {
   "cell_type": "code",
   "execution_count": null,
   "id": "dda73ead-6198-4f26-8d43-7170a154da37",
   "metadata": {},
   "outputs": [],
   "source": []
  },
  {
   "cell_type": "code",
   "execution_count": null,
   "id": "7981397d-7ea1-4301-b8b3-c5f7749056c8",
   "metadata": {},
   "outputs": [],
   "source": []
  },
  {
   "cell_type": "code",
   "execution_count": null,
   "id": "9e99eacd-7b6d-435c-bb08-5855c7c6fa42",
   "metadata": {},
   "outputs": [],
   "source": []
  },
  {
   "cell_type": "code",
   "execution_count": null,
   "id": "4e7e2249-c3a9-4c1c-8a64-f62ab3e88b01",
   "metadata": {},
   "outputs": [],
   "source": []
  },
  {
   "cell_type": "code",
   "execution_count": null,
   "id": "1b4f28c5-2557-47f0-8e99-8e4633f76a41",
   "metadata": {},
   "outputs": [],
   "source": []
  },
  {
   "cell_type": "code",
   "execution_count": null,
   "id": "52d5e00a-1171-4dc5-90ab-bb829de94e30",
   "metadata": {},
   "outputs": [],
   "source": []
  },
  {
   "cell_type": "code",
   "execution_count": null,
   "id": "ce451f47-ded7-4fad-bf72-716bfc774664",
   "metadata": {},
   "outputs": [],
   "source": []
  },
  {
   "cell_type": "code",
   "execution_count": null,
   "id": "dad3b87b-66dd-404b-9b61-3ecaf84c99a8",
   "metadata": {},
   "outputs": [],
   "source": []
  },
  {
   "cell_type": "code",
   "execution_count": null,
   "id": "c1e43d42-5954-4365-9d29-72a873ed18de",
   "metadata": {},
   "outputs": [],
   "source": []
  },
  {
   "cell_type": "code",
   "execution_count": null,
   "id": "e7231b16-8adb-4a63-b481-b81f0ef74445",
   "metadata": {},
   "outputs": [],
   "source": []
  },
  {
   "cell_type": "code",
   "execution_count": null,
   "id": "ca7e3c3a-82f6-4492-8bbf-8d6523b6eef1",
   "metadata": {},
   "outputs": [],
   "source": []
  },
  {
   "cell_type": "code",
   "execution_count": null,
   "id": "ad96a530-891f-4a57-b14e-c16c8b6fd33f",
   "metadata": {},
   "outputs": [],
   "source": []
  },
  {
   "cell_type": "code",
   "execution_count": null,
   "id": "9f9b7dd3-e9e9-4c1f-b469-c6daf07dca49",
   "metadata": {},
   "outputs": [],
   "source": []
  },
  {
   "cell_type": "code",
   "execution_count": null,
   "id": "b8b14d9f-c713-488f-bd78-b0915a74dc40",
   "metadata": {},
   "outputs": [],
   "source": []
  }
 ],
 "metadata": {
  "kernelspec": {
   "display_name": "Python 3 (ipykernel)",
   "language": "python",
   "name": "python3"
  },
  "language_info": {
   "codemirror_mode": {
    "name": "ipython",
    "version": 3
   },
   "file_extension": ".py",
   "mimetype": "text/x-python",
   "name": "python",
   "nbconvert_exporter": "python",
   "pygments_lexer": "ipython3",
   "version": "3.8.18"
  }
 },
 "nbformat": 4,
 "nbformat_minor": 5
}
